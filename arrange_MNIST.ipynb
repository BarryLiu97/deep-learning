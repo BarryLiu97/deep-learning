{
 "cells": [
  {
   "cell_type": "code",
   "execution_count": 2,
   "id": "2304323f-9097-4fd9-9703-d9ed459c1d9b",
   "metadata": {},
   "outputs": [],
   "source": [
    "%matplotlib inline\n",
    "import os\n",
    "import os.path as op\n",
    "import glob\n",
    "import random\n",
    "\n",
    "import numpy as np\n",
    "import pandas as pd\n",
    "import matplotlib.pyplot as plt\n",
    "\n",
    "import torch\n",
    "from torch import nn\n",
    "import torch.nn.functional as F\n",
    "from torch.utils.data import Dataset, DataLoader\n",
    "import torchvision as tv\n",
    "from torchvision import transforms, models"
   ]
  },
  {
   "cell_type": "code",
   "execution_count": 2,
   "id": "1504be0f-764c-48bb-8ac9-6abed55e4c2c",
   "metadata": {},
   "outputs": [],
   "source": [
    "def save_mnist_to_jpg(img_fname, lb_fname, save_dir):\n",
    "    import os\n",
    "    import os.path as op\n",
    "    import numpy as np\n",
    "    import cv2\n",
    "    \n",
    "    if 'train' in op.basename(img_fname):\n",
    "        num_file = 60000\n",
    "        prefix = 'train'\n",
    "    else:\n",
    "        num_file = 10000\n",
    "        prefix = 'test'\n",
    "        \n",
    "    with open(img_fname, 'rb') as f1:\n",
    "        image_file = f1.read()\n",
    "    with open(lb_fname, 'rb') as f2:\n",
    "        label_file = f2.read()\n",
    "        \n",
    "    image_file = image_file[16:]\n",
    "    label_file = label_file[8:]\n",
    "    if len(os.listdir(save_dir)) == prefix:\n",
    "        for i in range(num_file):\n",
    "            label = int(label_file[i])\n",
    "            image_list = [int(item) for item in image_file[i*784: i*784+784]]\n",
    "            image_np = np.array(image_list, dtype=np.uint8).reshape(28, 28, 1)\n",
    "            save_name = op.join(save_dir, f'{prefix}_{i}_{label}.jpg')\n",
    "            cv2.imwrite(save_name, image_np)\n",
    "            print(f'{prefix}_{i}_{label}.jpg')\n",
    "    else:\n",
    "        print('Images existed!')"
   ]
  },
  {
   "cell_type": "code",
   "execution_count": 3,
   "id": "fac1e550-e613-4e34-be77-80b2e49e0df1",
   "metadata": {},
   "outputs": [],
   "source": [
    "img_fname = 'H:\\DeepLearning\\MNIST\\\\t10k-images.idx3-ubyte'\n",
    "lb_fname = 'H:\\DeepLearning\\MNIST\\\\t10k-labels.idx1-ubyte'\n",
    "save_dir = 'H:\\DeepLearning\\MNIST\\\\test_images'\n",
    "# save_mnist_to_jpg(img_fname, lb_fname, save_dir)"
   ]
  },
  {
   "cell_type": "code",
   "execution_count": 5,
   "id": "b3fa8349-0f54-4894-b61a-c1c43b5d0801",
   "metadata": {},
   "outputs": [],
   "source": [
    "# create annot file(.txt) for all the images\n",
    "train_img_dir = 'MNIST/train_images'\n",
    "imgs = glob.glob(op.join(train_img_dir, '*.jpg'))\n",
    "\n",
    "labels = []\n",
    "for img_name in imgs:\n",
    "    labels.append(img_name[img_name.rfind('_')+1: -4])\n",
    "    \n",
    "img_labels_df = pd.DataFrame(dict(zip(imgs, labels)).items())\n",
    "img_labels_df.to_csv('all.txt', sep='\\t', index=None, header=None)"
   ]
  },
  {
   "cell_type": "code",
   "execution_count": 6,
   "id": "9c0dd345-73ce-4f9b-ba7c-e5f772b1cf98",
   "metadata": {},
   "outputs": [],
   "source": [
    "# create annot file(.txt) for all the images\n",
    "test_img_dir = 'MNIST/test_images'\n",
    "test_imgs = glob.glob(op.join(test_img_dir, '*.jpg'))\n",
    "\n",
    "test_labels = []\n",
    "for img_name in test_imgs:\n",
    "    test_labels.append(img_name[img_name.rfind('_')+1: -4])\n",
    "    \n",
    "test_img_labels_df = pd.DataFrame(dict(zip(test_imgs, test_labels)).items())\n",
    "test_img_labels_df.to_csv('test.txt', sep='\\t', index=None, header=None)"
   ]
  },
  {
   "cell_type": "code",
   "execution_count": 8,
   "id": "04ff7006-afb5-4bd0-9331-d70be10d00a2",
   "metadata": {},
   "outputs": [
    {
     "data": {
      "text/plain": [
       "48000"
      ]
     },
     "execution_count": 8,
     "metadata": {},
     "output_type": "execute_result"
    }
   ],
   "source": [
    "index_range = list(range(len(imgs)))\n",
    "random.shuffle(index_range)\n",
    "\n",
    "train_num = int(len(imgs) * 0.8)\n",
    "train_num"
   ]
  },
  {
   "cell_type": "code",
   "execution_count": 27,
   "id": "62c6ba4f-6fe2-4a3a-af67-26d90508262b",
   "metadata": {},
   "outputs": [],
   "source": [
    "shuffled_train_imgs = list(np.array(imgs)[index_range[: train_num]])\n",
    "shuffled_train_labels = list(np.array(labels)[index_range[: train_num]])\n",
    "\n",
    "shuffled_valid_imgs = list(np.array(imgs)[index_range[train_num: ]])\n",
    "shuffled_valid_labels = list(np.array(labels)[index_range[train_num: ]])\n",
    "\n",
    "shuffled_train_df = pd.DataFrame(dict(zip(shuffled_train_imgs, shuffled_train_labels)).items())\n",
    "shuffled_valid_df = pd.DataFrame(dict(zip(shuffled_valid_imgs, shuffled_valid_labels)).items())\n",
    "\n",
    "shuffled_train_df.to_csv('train.txt', sep='\\t', index=None, header=None)\n",
    "shuffled_valid_df.to_csv('valid.txt', sep='\\t', index=None, header=None)"
   ]
  },
  {
   "cell_type": "code",
   "execution_count": 7,
   "id": "132afa70-c621-40dd-995f-0e5cd4bb8b6c",
   "metadata": {},
   "outputs": [
    {
     "data": {
      "image/png": "[encoded data removed]",
      "text/plain": [
       "<Figure size 600x400 with 10 Axes>"
      ]
     },
     "metadata": {
      "needs_background": "light"
     },
     "output_type": "display_data"
    }
   ],
   "source": [
    "import cv2\n",
    "\n",
    "fig, axes = plt.subplots(2, 5, dpi=100)\n",
    "for i in range(10):\n",
    "    img = cv2.imread(imgs[i])\n",
    "    axes[i//5, i-5].imshow(img)\n",
    "    axes[i//5, i-5].axis('off')\n",
    "    axes[i//5, i-5].set_title(img_labels_df.iloc[i, 1])\n",
    "fig.tight_layout()"
   ]
  },
  {
   "cell_type": "code",
   "execution_count": 24,
   "id": "e99886aa-57be-41b7-9e24-4b135d7f788c",
   "metadata": {},
   "outputs": [],
   "source": [
    "shuffled_valid_labels = np.array(shuffled_valid_labels)\n",
    "all_len = []\n",
    "for i in range(10):\n",
    "    all_len.append(len(shuffled_valid_labels[shuffled_valid_labels==str(i)]))"
   ]
  },
  {
   "cell_type": "code",
   "execution_count": 25,
   "id": "736b4891-a962-425e-99a9-bb15b549c05b",
   "metadata": {},
   "outputs": [
    {
     "data": {
      "text/plain": [
       "[1144, 1335, 1214, 1236, 1196, 1100, 1132, 1241, 1183, 1219]"
      ]
     },
     "execution_count": 25,
     "metadata": {},
     "output_type": "execute_result"
    }
   ],
   "source": [
    "all_len"
   ]
  },
  {
   "cell_type": "code",
   "execution_count": null,
   "id": "85ce75a9-474d-4b1b-80f9-4beb8fa736d4",
   "metadata": {},
   "outputs": [],
   "source": []
  }
 ],
 "metadata": {
  "kernelspec": {
   "display_name": "Python 3.8 (XPython)",
   "language": "python",
   "name": "xpython"
  },
  "language_info": {
   "file_extension": ".py",
   "mimetype": "text/x-python",
   "name": "python",
   "version": "3.8.13"
  },
  "widgets": {
   "application/vnd.jupyter.widget-state+json": {
    "state": {},
    "version_major": 2,
    "version_minor": 0
   }
  }
 },
 "nbformat": 4,
 "nbformat_minor": 5
}
